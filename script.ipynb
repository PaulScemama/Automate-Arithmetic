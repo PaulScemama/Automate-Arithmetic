{
 "metadata": {
  "language_info": {
   "codemirror_mode": {
    "name": "ipython",
    "version": 3
   },
   "file_extension": ".py",
   "mimetype": "text/x-python",
   "name": "python",
   "nbconvert_exporter": "python",
   "pygments_lexer": "ipython3",
   "version": "3.7.10"
  },
  "orig_nbformat": 4,
  "kernelspec": {
   "name": "python3",
   "display_name": "Python 3.7.10 64-bit ('DeepCpf1': conda)"
  },
  "interpreter": {
   "hash": "bf1a9706dd04311ce3de4efdbab89c4f3af607a84ffdbb0ecba7bf3a056d3ad1"
  }
 },
 "nbformat": 4,
 "nbformat_minor": 2,
 "cells": [
  {
   "cell_type": "code",
   "execution_count": 75,
   "source": [
    "## Extracting Features\n",
    "\n",
    "## 1. Invert the image and then convert it to a binary image \n",
    "# IMPORT data by batches (by character in the image (0,1,2,3...etc))\n",
    "\n",
    "# preprocess with parallel computing\n",
    "\n",
    "# check Pillow version number\n",
    "import os\n",
    "import numpy as np\n",
    "import tensorflow as tf\n",
    "from tensorflow import keras\n",
    "from keras import Sequential\n",
    "from keras.layers import Conv2D\n",
    "from keras.layers import MaxPooling2D\n",
    "from keras.layers import Flatten\n",
    "from keras.layers import Dense\n",
    "from keras.optimizers import SGD\n",
    "from keras.preprocessing.image import ImageDataGenerator\n",
    "from random import randint\n",
    "import matplotlib.pyplot as plt\n",
    "\n",
    "\n",
    "\n",
    "# NumPy uses asarra() to convert PIL images into NumPy arrays\n",
    "\n",
    "## 2. to find contours, use 'findContour' function. For features, obtain bounding rectangle of contour\n",
    "## using 'boudningRect' function\n",
    "\n",
    "# 3. calculate the area of the bounding rectange of each contour and select the rectangle with max area\n",
    "\n",
    "# 4. resize the max area bounding rectangle to 28 by 28. Reshape to 784 x 1\n",
    "## now give corresponding label to each image (0-9 images, same label as their digit)\n",
    "## for - , assign label 10, for + 11, and for * 12\n",
    "\n"
   ],
   "outputs": [],
   "metadata": {}
  },
  {
   "cell_type": "code",
   "execution_count": 5,
   "source": [
    "# Creates batches of tensor image data with real-time data augmentation\n",
    "# holds 20% of dataset for validation\n",
    "train_datagen = ImageDataGenerator(rescale = 1./255,    \n",
    "    shear_range = 0.2,\n",
    "    zoom_range = 0.2,\n",
    "    horizontal_flip = True,\n",
    "    validation_split = .2)\n",
    "\n",
    "# Define path to directory where my data is\n",
    "path = '/Users/paulscemama/AutomatingArith/train'\n",
    "\n",
    "# get batches of augmented data for training\n",
    "train = train_datagen.flow_from_directory(path,\n",
    "    target_size = (64,64),\n",
    "    color_mode = \"grayscale\",\n",
    "    classes = ['-','+','=','0','1','2','3','4','5','6','7','8','9','*'],\n",
    "    class_mode = 'categorical',\n",
    "    subset = 'training',\n",
    "    seed = 121)\n",
    "\n",
    "val = train_datagen.flow_from_directory(path,\n",
    "    target_size = (64,64),\n",
    "    color_mode = 'grayscale',\n",
    "    classes = ['-','+','=','0','1','2','3','4','5','6','7','8','9','*'],\n",
    "    class_mode = 'categorical',\n",
    "    subset = 'validation',\n",
    "    seed = 121\n",
    ")\n",
    "\n",
    "\n"
   ],
   "outputs": [
    {
     "output_type": "stream",
     "name": "stdout",
     "text": [
      "Found 133182 images belonging to 14 classes.\n",
      "Found 33288 images belonging to 14 classes.\n"
     ]
    }
   ],
   "metadata": {}
  },
  {
   "cell_type": "code",
   "execution_count": 3,
   "source": [
    "def prepare_model():\n",
    "    model = Sequential()\n",
    "    model.add(Conv2D(32, kernel_size = (3,3), activation = 'relu', input_shape = (64,64,1)))\n",
    "    model.add(MaxPooling2D(pool_size = (2,2)))    \n",
    "    model.add(Flatten())\n",
    "    model.add(Dense(100, activation = 'relu'))\n",
    "    model.add(Dense(14, activation = 'softmax'))\n",
    "\n",
    "    # compile \n",
    "    optimizer = SGD(lr = 0.01, momentum = 0.9)\n",
    "    model.compile(optimizer = optimizer, loss = 'categorical_crossentropy', metrics = ['accuracy'])\n",
    "    return model"
   ],
   "outputs": [],
   "metadata": {}
  },
  {
   "cell_type": "code",
   "execution_count": 4,
   "source": [
    "classify = prepare_model()\n"
   ],
   "outputs": [],
   "metadata": {}
  },
  {
   "cell_type": "code",
   "execution_count": 5,
   "source": [
    "classify.fit(train,\n",
    "                    validation_data = val,\n",
    "                    steps_per_epoch = train.n//train.batch_size,\n",
    "                    validation_steps = val.n//val.batch_size,\n",
    "                    epochs=5)"
   ],
   "outputs": [
    {
     "output_type": "stream",
     "name": "stdout",
     "text": [
      "Epoch 1/5\n",
      "4161/4161 [==============================] - 325s 78ms/step - loss: 0.7226 - accuracy: 0.7751 - val_loss: 0.2620 - val_accuracy: 0.9207\n",
      "Epoch 2/5\n",
      "4161/4161 [==============================] - 317s 76ms/step - loss: 0.2274 - accuracy: 0.9324 - val_loss: 0.1658 - val_accuracy: 0.9508\n",
      "Epoch 3/5\n",
      "4161/4161 [==============================] - 325s 78ms/step - loss: 0.1644 - accuracy: 0.9518 - val_loss: 0.1327 - val_accuracy: 0.9610\n",
      "Epoch 4/5\n",
      "4161/4161 [==============================] - 304s 73ms/step - loss: 0.1338 - accuracy: 0.9601 - val_loss: 0.1517 - val_accuracy: 0.9545\n",
      "Epoch 5/5\n",
      "4161/4161 [==============================] - 290s 70ms/step - loss: 0.1307 - accuracy: 0.9606 - val_loss: 0.1163 - val_accuracy: 0.9635\n"
     ]
    },
    {
     "output_type": "execute_result",
     "data": {
      "text/plain": [
       "<tensorflow.python.keras.callbacks.History at 0x7fdd9c39ae90>"
      ]
     },
     "metadata": {},
     "execution_count": 5
    }
   ],
   "metadata": {}
  },
  {
   "cell_type": "code",
   "execution_count": 6,
   "source": [
    "from keras.models import model_from_json"
   ],
   "outputs": [],
   "metadata": {}
  },
  {
   "cell_type": "code",
   "execution_count": 8,
   "source": [
    "# Evaluate model\n",
    "score = classify.evaluate(val)\n"
   ],
   "outputs": [
    {
     "output_type": "stream",
     "name": "stdout",
     "text": [
      "1041/1041 [==============================] - 52s 49ms/step - loss: 0.1190 - accuracy: 0.9640\n"
     ]
    }
   ],
   "metadata": {}
  },
  {
   "cell_type": "code",
   "execution_count": 9,
   "source": [
    "print('Val Accuracy', score[1])"
   ],
   "outputs": [
    {
     "output_type": "stream",
     "name": "stdout",
     "text": [
      "Test Accuracy 0.9639509916305542\n"
     ]
    }
   ],
   "metadata": {}
  },
  {
   "cell_type": "code",
   "execution_count": 10,
   "source": [
    "# save weights and model\n",
    "\n",
    "# Serialize model to json\n",
    "classify_json = classify.to_json()\n",
    "with open('classify_json','w') as json_file:\n",
    "    json_file.write(classify_json)\n",
    "\n",
    "# Serialize weights to HDF5\n",
    "classify.save_weights('classify_weights.h5')"
   ],
   "outputs": [],
   "metadata": {}
  },
  {
   "cell_type": "code",
   "execution_count": 14,
   "source": [
    "# Ensure it worked by loading in the model and testing its performance\n",
    "# load model\n",
    "json_file = open('classify_json','r')\n",
    "loaded_model_json = json_file.read()\n",
    "json_file.close()\n",
    "loaded_classify = model_from_json(loaded_model_json)\n",
    "# load weights\n",
    "loaded_classify.load_weights('classify_weights.h5')\n",
    "\n",
    "# evaluate model\n",
    "loaded_classify.compile(loss = 'binary_crossentropy', optimizer = SGD(lr = 0.01, momentum = 0.9), metrics = ['accuracy'])\n",
    "loaded_score = loaded_classify.evaluate(val, verbose = 0)\n",
    "print('Accuracy', loaded_score[1])"
   ],
   "outputs": [
    {
     "output_type": "stream",
     "name": "stdout",
     "text": [
      "Accuracy 0.9640411138534546\n"
     ]
    }
   ],
   "metadata": {}
  },
  {
   "cell_type": "markdown",
   "source": [
    "## Localization Model"
   ],
   "metadata": {}
  },
  {
   "cell_type": "markdown",
   "source": [
    "Need to first create a new dataset"
   ],
   "metadata": {}
  },
  {
   "cell_type": "code",
   "execution_count": 50,
   "source": [
    "np.random.seed(123)\n",
    "\n",
    "def create_random_sample(symbol, percentage):\n",
    "        path = '/Users/paulscemama/AutomatingArith/train'\n",
    "        if symbol == 'times':\n",
    "                filenames = [f for f in os.listdir(path + '/' + symbol)]\n",
    "        else:\n",
    "                filenames = [f for f in os.listdir(path + '/' + symbol) if f[0] == symbol]\n",
    "        random_samp = np.random.choice(filenames, int(len(filenames)* percentage))\n",
    "        return random_samp"
   ],
   "outputs": [],
   "metadata": {}
  },
  {
   "cell_type": "code",
   "execution_count": 53,
   "source": [
    "# create samples\n",
    "\n",
    "random_minus = create_random_sample('-', 0.1)\n",
    "random_plus = create_random_sample('+',0.1)\n",
    "random_equals = create_random_sample('=',0.2)\n",
    "random_zeros = create_random_sample('0',0.25)\n",
    "random_ones = create_random_sample('1', 0.25)\n",
    "random_twos = create_random_sample('2', 0.25)\n",
    "random_threes = create_random_sample('3', 0.25)\n",
    "random_fours = create_random_sample('4', 0.25)\n",
    "random_fives = create_random_sample('5', 0.25)\n",
    "random_sixes = create_random_sample('6', 0.25)\n",
    "random_sevens = create_random_sample('7', 0.25)\n",
    "random_eights = create_random_sample('8', 0.25)\n",
    "random_nines = create_random_sample('9', 0.25)\n",
    "random_times = create_random_sample('times', 0.1)"
   ],
   "outputs": [],
   "metadata": {}
  },
  {
   "cell_type": "code",
   "execution_count": 71,
   "source": [
    "from PIL import Image\n",
    "\n",
    "minus = Image.open(path + '/-/' + random_minus[randint(0,len(random_minus))])\n",
    "plus = Image.open(path + '/+/' + random_plus[randint(0,len(random_plus))])\n",
    "equals = Image.open(path + '/=/' + random_equals[randint(0,len(random_equals))])\n",
    "zero = Image.open(path + '/0/' + random_zeros[randint(0,len(random_zeros))])\n",
    "one = Image.open(path + '/1/' + random_ones[randint(0,len(random_ones))])\n",
    "two = Image.open(path + '/2/' + random_twos[randint(0,len(random_twos))])\n",
    "three = Image.open(path + '/3/' + random_threes[randint(0,len(random_threes))])\n",
    "four = Image.open(path + '/4/' + random_fours[randint(0,len(random_fours))])\n",
    "five = Image.open(path + '/5/' + random_fives[randint(0,len(random_fives))])\n",
    "six = Image.open(path + '/6/' + random_sixes[randint(0,len(random_sixes))])\n",
    "seven = Image.open(path + '/7/' + random_sevens[randint(0,len(random_sevens))])\n",
    "eight = Image.open(path + '/8/' + random_eights[randint(0,len(random_eights))])\n",
    "nine = Image.open(path + '/9/' + random_nines[randint(0,len(random_nines))])\n",
    "times = Image.open(path + '/times/' + random_times[randint(0,len(random_times))])"
   ],
   "outputs": [],
   "metadata": {}
  },
  {
   "cell_type": "code",
   "execution_count": 94,
   "source": [
    "from mpl_toolkits.axes_grid1 import ImageGrid\n",
    "\n",
    "fig = plt.figure(figsize=(4.,4.))\n",
    "grid = ImageGrid(fig, 111,\n",
    "            nrows_ncols = (2,7),\n",
    "            axes_pad = 0.05)\n",
    "\n",
    "for ax, im in zip(grid, [minus,plus,equals,zero,one,two,three,four,five,six,seven,eight,nine,times]):\n",
    "    ax.set_axis_off()\n",
    "    ax.imshow(im)\n",
    "\n",
    "plt.show()\n",
    "\n"
   ],
   "outputs": [
    {
     "output_type": "display_data",
     "data": {
      "text/plain": [
       "<Figure size 400x400 with 28 Axes>"
      ],
      "image/png": "[encoded data removed]"
     },
     "metadata": {}
    }
   ],
   "metadata": {}
  },
  {
   "cell_type": "code",
   "execution_count": null,
   "source": [],
   "outputs": [],
   "metadata": {}
  }
 ]
}